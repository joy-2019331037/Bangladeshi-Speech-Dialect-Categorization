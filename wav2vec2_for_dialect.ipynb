{
 "cells": [
  {
   "cell_type": "markdown",
   "metadata": {
    "id": "KNXdDw3Hi9Nn"
   },
   "source": [
    "# Importing libraries, loading and transforming data"
   ]
  },
  {
   "cell_type": "code",
   "execution_count": 1,
   "metadata": {
    "execution": {
     "iopub.execute_input": "2024-12-14T08:21:50.340283Z",
     "iopub.status.busy": "2024-12-14T08:21:50.340028Z",
     "iopub.status.idle": "2024-12-14T08:22:33.598659Z",
     "shell.execute_reply": "2024-12-14T08:22:33.597357Z",
     "shell.execute_reply.started": "2024-12-14T08:21:50.340257Z"
    },
    "id": "GlhgJywFi9Nq",
    "outputId": "0769acd8-a308-4569-d37d-58adf240cb42",
    "trusted": true
   },
   "outputs": [
    {
     "name": "stdout",
     "output_type": "stream",
     "text": [
      "Repository: 'deb https://ppa.launchpadcontent.net/savoury1/ffmpeg4/ubuntu/ jammy main'\n",
      "Description:\n",
      "FFmpeg 4.4.5 builds (& associated multimedia packages) for Xenial & newer.\n",
      "\n",
      "*** Anyone interested in full builds of FFmpeg 4.4.x including all \"bells and whistles\" needs to have donated, after which access to the new private PPA can be requested. See my Launchpad page linked below for details. ***\n",
      "\n",
      "*** Please always see https://launchpad.net/~savoury1 for general updates about this Launchpad site before contacting me or reporting any bugs! ***\n",
      "\n",
      "*** Big thanks to all those who have donated to support this project, you are very directly helping to keep it alive! To all who have not donated: please do so if you can afford it, this project depends on donations. ***\n",
      "\n",
      "If software at this site is useful to you then please consider a donation:\n",
      "\n",
      "*** Donations: https://paypal.me/Savoury1 & https://ko-fi.com/Savoury1 ***\n",
      "*** Also https://patreon.com/Savoury1 & https://liberapay.com/Savoury1 ***\n",
      "\n",
      "==========================================================================\n",
      "                   FFmpeg 4 - media tool (Xenial & newer)\n",
      "==========================================================================\n",
      "\n",
      "abseil (20240116.2), alsa-{lib,plugins,tools,topology-conf,ucm-conf,utils} (1.2.{5,6}), aom (3.9.1), aribb24 (1.0.3+git20160115), chafa (1.14.0), chromaprint (1.5.1), cjson (1.7.17), codec2 (1.2.0), cppzmq (4.10.0), dav1d (1.4.3), ffmpeg (4.4.5), ffms2 (2.23), flac (1.4.3), fluidsynth (2.3.5), fontconfig (2.13.1), freeglut (3.4.0), freetype (2.11.1), glib2.0 (2.72.4), gmp (6.3.0), gnutls28 (3.7.3), gobject-introspection (1.72.0), gpac (2.2.1), gst-{libav,python}1.0 (1.24.10 for gst*), gst-plugins-{bad,base,good,ugly}1.0, gst-plugins-rtp (1.18.1.2), gstreamer{-vaapi,1.0}, harfbuzz (8.3.0), ilmbase (3.1.11 = imath), intel-gmmlib (22.4.1), intel-media-driver{,-non-free} (24.2.5), intel-mediasdk (23.2.2), json-glib (1.6.6), lensfun (0.3.3), libass (0.17.3), libavtp (0.2.0), libbluray (1.3.4), libbs2b (3.1.0), libcamera (0.3.1), libcdio (2.1.0), libcdio-paranoia (10.2+2.0.1), libdeflate (1.22), libdvdnav (6.1.1), libdvdread (6.1.3), libevent (2.1.12-stable), libffado (2.4.9), libfreeaptx (0.1.1), libgcrypt20 (1.10.3), libgsm (1.0.22), libinstpatch (1.1.6), liblc3 (1.1.1), libldac (2.0.2.3+git20200429), libmysofa (1.3.2), libnice (0.1.21), libopenaptx (0.2.0), libopenmpt (0.7.8), libpng1.6 (1.6.44), librabbitmq (0.11.0), libsdl2 (2.30.9), libshout (2.4.6), libsodium (1.0.21~git20240801), libsoup3 (3.1.4), libsrtp2 (2.5.0), libssh (0.10.6), libtasn1-6 (4.18.0), libudfread (1.1.2), libunistring (1.0), libunwind (1.3.2), libva{-utils} (2.22.0), libvpx (1.14.1), libwebm (1.0.0.31), libwebp (1.4.0), libxfixes (6.0.0), libyaml (0.2.5), libyuv (0.0.1898.20241205), lua5.4 (5.4.6), mbedtls (2.28.8), mpg123 (1.32.5), nettle (3.7.3), norm (1.5.9), openal-soft (1.22.2), opencore-amr (0.1.6), openexr (3.2.4), openfec (1.4.2.10), openh264 (2.4.1), openjpeg2 (2.5.0), opus (1.5.2), orc (0.4.40), pipewire (1.2.7), pipewire-media-session (0.4.2), qpwgraph (0.8.0), roc-toolkit (0.3.0), rubberband (3.1.2), sbc (2.0), snappy (1.1.10), sndio (1.9.0), soundtouch (2.3.2), speex{dsp} (1.2.1), srt (1.5.3), timgm6mb-soundfont, unbound (1.19.2), ust (2.13.4), vulkan-{headers,loader,tools} (1.3.296.0), wavpack (5.7.0), webrtc-audio-processing (1.3), wireplumber (0.5.7), x264 (0.164.3191 = libx264-164), x265 (3.5 = libx265-199), zeromq3 (4.3.5), zimg (3.0.5), zlib (1.3.1), zvbi (0.2.42), zxing-cpp (2.2.1)\n",
      "\n",
      "Focal & Jammy: libdecor-0 (0.2.2 for libsdl2 >= 2.0.20)\n",
      "\n",
      "Focal only: autogen (= abseil 20240116.2 / renamed source for i386), gnome-keyring (3.36.0 rebuild for compat with new GLib), libdbl-perl (1.20 = libdeflate / renamed source for i386)\n",
      "\n",
      "Bionic & Focal: snapd-glib (1.60 for PipeWire >= 1.0.1-1ubuntu3~)\n",
      "\n",
      "Xenial & Bionic: alsa-oss (1.1.8), alsa-plugins-extra (1.1.0), alsaequal (0.6), fftw3 (3.3.8), fribidi (1.0.8), gnome-keyring (3.28.2), lcms2 (2.9), leptonlib (1.79.0), libgpg-error, libvidstab (1.1.0), p11-kit, tesseract (4.1.1), wayland-protocols (1.18),  wildmidi (0.4.3)\n",
      "\n",
      "Xenial only: autogen, curl, gcc-7 (7.5.0), lame (3.100), libdrm (2.4.99), libidn2, libpsl, lm-sensors (3.6.0), mesa (18.0.5 rebuild for newer Wayland), nghttp2, openssl, pysimplesoap, python-{boto,httplib2,imaplib2} (compat with newer openssl), readline (7.0), unbound, wayland (1.16.0)\n",
      "\n",
      "==========================================================================\n",
      "\n",
      "*** Install ***\n",
      "\n",
      "FFmpeg can be installed from this PPA alone, as the required packages to satisfy minimum versions have been copied here (notify me if any missing). However, if _all_ newest versions of graphics and multimedia packages are desired then two additional PPAs can be added before installing FFmpeg:\n",
      "\n",
      "  sudo add-apt-repository ppa:savoury1/graphics\n",
      "  sudo add-apt-repository ppa:savoury1/multimedia\n",
      "  sudo add-apt-repository ppa:savoury1/ffmpeg4\n",
      "  sudo apt-get update\n",
      "  sudo apt-get upgrade && sudo apt-get dist-upgrade\n",
      "  sudo apt-get install ffmpeg\n",
      "\n",
      "Notes: GStreamer 1.24.x packages are copied here (ppa:savoury1/multimedia) as FFmpeg and GStreamer must both be built against the Debian SRT package version with renamed libsrt1.5-gnutls or they cannot both be installed at the same time. GStreamer is on basically every Ubuntu-based system so this means it is necessary to upgrade GStreamer packages when upgrading FFmpeg.\n",
      "\n",
      "Also, PipeWire 1.2.x packages are copied here from the PipeWire PPA, due PipeWire now being commonly used by various software. As the FFmpeg 4 PPA is required by numerous PPAs at this Launchpad site it makes the latest PipeWire readily available to all users. PipeWire is built with ALSA 1.2.5 minimum (Jammy, backported to earlier series) which is then required to run, so base ALSA packages are now also copied here for earlier series.\n",
      "\n",
      "GLib will be upgraded to 2.72.4 by adding this PPA as it is required by WirePlumber >= 0.5.0 (and various other new software versions also). This version of GLib causes problems with certain features of GNOME Keyring, so rebuilds of GNOME Keyring for compatibility with GLib >= 2.70.0 are found here as well. These upgrades should be fully backwards compatible and are not known to cause any issues, based on testing a wide range of software.\n",
      "\n",
      "* Xenial systems: As of FFmpeg 4.3 the installation requires GCC >= 7 as the Intel-MediaSDK is enabled, with libmfx1 requiring GCC >= 7 (package fails to build with GCC 5.4.0). So GCC 7.5.0 (ppa:savoury1/toolchain) for Xenial has been copied here, making it easier to install FFmpeg 4.x on Xenial (so adding this FFmpeg 4 PPA will bring a few GCC 7.5.0 upgrades).\n",
      "\n",
      "* Focal systems: Builds of FFmpeg are now also available for i386 whereas they were not available initially. Launchpad does not build most packages for i386 architecture for Focal and newer series (Launchpad only builds i386 packages on a whitelist managed by the Launchpad team) including for dav1d and pocketsphinx, so these features are not enabled for Focal i386.\n",
      "\n",
      "*** Updates ***\n",
      "\n",
      "Update (5 Apr 2023): FFmpeg 4.4 builds from today onwards are now generic, in that they are similar to current Ubuntu 22.04 Jammy FFmpeg builds. All of the dated updates below still apply to the FFmpeg 4.x builds available at a private \"subscriber only\" PPA (ppa:savoury1/ffmpeg) for supporters.\n",
      "\n",
      "Update (24 Jan 2023): FFmpeg 4.4 builds now have AMD AMF (Advanced Media Framework) support, using latest headers from AMF 1.4.29 (released today).\n",
      "\n",
      "Update (23 Oct 2022): FFmpeg 4.4 builds now have rav1e (new Rust-based AV1 encoder) support & are also built with nv-codec-headers 11.1.5.1 (latest).\n",
      "\n",
      "Update (6 Apr 2022): FFmpeg 4.4 builds now have Netflix VMAF support, with thanks to Frank B. (equal #1 patron of these PPAs) for suggesting/testing!\n",
      "\n",
      "Update (8 May 2021): FFmpeg 4.4 uploads from today onwards are built with these additional optional libraries: glslang (shader support), SVT-AV1 (scalable AV1 encoder), zimg (scaling, colorspace conversion, dithering), Vulkan (GPU acceleration on supported hardware), and SMB (Samba sharing).\n",
      "\n",
      "*** Build ***\n",
      "\n",
      "This PPA has build dependencies on:\n",
      "\n",
      "  ppa:savoury1/build-tools\n",
      "  ppa:savoury1/backports\n",
      "  ppa:savoury1/fonts\n",
      "  ppa:savoury1/graphics\n",
      "  ppa:savoury1/multimedia\n",
      "\n",
      "Additionally, for Xenial builds only:\n",
      "\n",
      "  ppa:savoury1/perl-xenial\n",
      "\n",
      "*** Credits ***\n",
      "\n",
      "- Creators of FFmpeg: Michael Niedermayer and the entire FFmpeg team\n",
      "  https://github.com/FFmpeg/FFmpeg/graphs/contributors\n",
      "\n",
      "- Package code: Debian Multimedia Maintainers\n",
      "  https://tracker.debian.org/pkg/ffmpeg\n",
      "More info: https://launchpad.net/~savoury1/+archive/ubuntu/ffmpeg4\n",
      "Adding repository.\n",
      "Found existing deb entry in /etc/apt/sources.list.d/savoury1-ubuntu-ffmpeg4-jammy.list\n",
      "Adding deb entry to /etc/apt/sources.list.d/savoury1-ubuntu-ffmpeg4-jammy.list\n",
      "Found existing deb-src entry in /etc/apt/sources.list.d/savoury1-ubuntu-ffmpeg4-jammy.list\n",
      "Adding disabled deb-src entry to /etc/apt/sources.list.d/savoury1-ubuntu-ffmpeg4-jammy.list\n",
      "Adding key to /etc/apt/trusted.gpg.d/savoury1-ubuntu-ffmpeg4.gpg with fingerprint E996735927E427A733BB653E374C7797FB006459\n",
      "Hit:1 http://archive.ubuntu.com/ubuntu jammy InRelease\n",
      "Get:2 http://archive.ubuntu.com/ubuntu jammy-updates InRelease [128 kB]        \n",
      "Hit:3 https://packages.cloud.google.com/apt gcsfuse-focal InRelease            \n",
      "Hit:4 http://archive.ubuntu.com/ubuntu jammy-backports InRelease               \n",
      "Hit:5 https://developer.download.nvidia.com/compute/cuda/repos/ubuntu2204/x86_64  InRelease\n",
      "Hit:6 https://ppa.launchpadcontent.net/savoury1/ffmpeg4/ubuntu jammy InRelease \n",
      "Hit:7 https://packages.cloud.google.com/apt cloud-sdk InRelease     \n",
      "Get:8 http://security.ubuntu.com/ubuntu jammy-security InRelease [129 kB]\n",
      "Hit:9 https://packages.cloud.google.com/apt google-fast-socket InRelease\n",
      "Get:10 http://archive.ubuntu.com/ubuntu jammy-updates/main amd64 Packages [2755 kB]\n",
      "Get:11 http://archive.ubuntu.com/ubuntu jammy-updates/universe amd64 Packages [1516 kB]\n",
      "Fetched 4528 kB in 1s (3048 kB/s)                          \n",
      "Reading package lists... Done\n",
      "W: https://packages.cloud.google.com/apt/dists/gcsfuse-focal/InRelease: Key is stored in legacy trusted.gpg keyring (/etc/apt/trusted.gpg), see the DEPRECATION section in apt-key(8) for details.\n",
      "W: https://packages.cloud.google.com/apt/dists/google-fast-socket/InRelease: Key is stored in legacy trusted.gpg keyring (/etc/apt/trusted.gpg), see the DEPRECATION section in apt-key(8) for details.\n"
     ]
    }
   ],
   "source": [
    "!pip install -q evaluate transformers==4.28.1\n",
    "!pip install -U -q datasets\n",
    "!pip install -q torchaudio==0.12\n",
    "!add-apt-repository -y ppa:savoury1/ffmpeg4\n",
    "!apt-get -qq install -y ffmpeg\n",
    "!pip install -q mlflow"
   ]
  },
  {
   "cell_type": "code",
   "execution_count": 2,
   "metadata": {
    "execution": {
     "iopub.execute_input": "2024-12-14T08:22:33.600926Z",
     "iopub.status.busy": "2024-12-14T08:22:33.600615Z",
     "iopub.status.idle": "2024-12-14T08:22:33.605216Z",
     "shell.execute_reply": "2024-12-14T08:22:33.604384Z",
     "shell.execute_reply.started": "2024-12-14T08:22:33.600897Z"
    },
    "id": "vIyqjOsGi9Nt",
    "outputId": "d71d480a-f257-40e9-c9d8-c55fcae1ddf3",
    "trusted": true
   },
   "outputs": [],
   "source": [
    "# pip show tensorflow"
   ]
  },
  {
   "cell_type": "code",
   "execution_count": 3,
   "metadata": {
    "execution": {
     "iopub.execute_input": "2024-12-14T08:22:33.606511Z",
     "iopub.status.busy": "2024-12-14T08:22:33.606257Z",
     "iopub.status.idle": "2024-12-14T08:22:37.403595Z",
     "shell.execute_reply": "2024-12-14T08:22:37.402800Z",
     "shell.execute_reply.started": "2024-12-14T08:22:33.606481Z"
    },
    "id": "catePCqZi9Nu",
    "outputId": "111b85fb-a705-4a7e-8a28-45cbcab6e426",
    "trusted": true
   },
   "outputs": [
    {
     "name": "stdout",
     "output_type": "stream",
     "text": [
      "4.28.1\n"
     ]
    }
   ],
   "source": [
    "#imports\n",
    "import pandas as pd\n",
    "import gc\n",
    "import re\n",
    "import numpy as np\n",
    "import torch\n",
    "from imblearn.over_sampling import RandomOverSampler\n",
    "import datasets\n",
    "import transformers\n",
    "print(transformers.__version__)\n",
    "\n",
    "import warnings\n",
    "warnings.filterwarnings(\"ignore\")\n",
    "\n",
    "from tqdm import tqdm\n",
    "tqdm.pandas()"
   ]
  },
  {
   "cell_type": "code",
   "execution_count": 4,
   "metadata": {
    "execution": {
     "iopub.execute_input": "2024-12-14T08:22:37.406652Z",
     "iopub.status.busy": "2024-12-14T08:22:37.406131Z",
     "iopub.status.idle": "2024-12-14T08:22:37.411954Z",
     "shell.execute_reply": "2024-12-14T08:22:37.411092Z",
     "shell.execute_reply.started": "2024-12-14T08:22:37.406621Z"
    },
    "id": "izmjP025i9Nw",
    "outputId": "efc41f04-63c4-47c4-d101-bc4872c5656e",
    "trusted": true
   },
   "outputs": [
    {
     "name": "stdout",
     "output_type": "stream",
     "text": [
      "{0: 'Barisal', 1: 'Chakma', 2: 'Chittagong', 3: 'Dhaka', 4: 'Marma', 5: 'Noakhali', 6: 'Rajshahi', 7: 'Rangpur', 8: 'Sylhet'} \n",
      "\n",
      " {'Barisal': 0, 'Chakma': 1, 'Chittagong': 2, 'Dhaka': 3, 'Marma': 4, 'Noakhali': 5, 'Rajshahi': 6, 'Rangpur': 7, 'Sylhet': 8}\n"
     ]
    }
   ],
   "source": [
    "RATE_HZ = 16000 # resampling rate in Hz\n",
    "MAX_LENGTH = 48000 # maximum audio interval length to consider (= RATE_HZ * SECONDS)\n",
    "labels = ['Barisal','Chakma','Chittagong','Dhaka','Marma','Noakhali','Rajshahi','Rangpur', 'Sylhet']\n",
    "label2id, id2label = dict(), dict()\n",
    "for i, label in enumerate(labels):\n",
    "    label2id[label] = i\n",
    "    id2label[i] = label\n",
    "\n",
    "print(id2label, '\\n\\n', label2id)"
   ]
  },
  {
   "cell_type": "markdown",
   "metadata": {
    "id": "fz27uAGli9Nx"
   },
   "source": [
    "# Load and preprocess data"
   ]
  },
  {
   "cell_type": "code",
   "execution_count": 5,
   "metadata": {
    "execution": {
     "iopub.execute_input": "2024-12-14T08:22:37.413210Z",
     "iopub.status.busy": "2024-12-14T08:22:37.412969Z",
     "iopub.status.idle": "2024-12-14T08:22:37.852241Z",
     "shell.execute_reply": "2024-12-14T08:22:37.851449Z",
     "shell.execute_reply.started": "2024-12-14T08:22:37.413186Z"
    },
    "id": "Qwu38975i9Nx",
    "trusted": true
   },
   "outputs": [],
   "source": [
    "from pathlib import Path\n",
    "import torchaudio\n",
    "\n",
    "# def load_data():\n",
    "#     file_list = []\n",
    "#     label_list = []\n",
    "\n",
    "#     for folder in Path('/kaggle/input/banglabeats3sec/wavs3sec/').glob('*'):\n",
    "#         genre = folder.name  # Get the genre name from the folder\n",
    "\n",
    "#         # Count the number of files processed for this genre\n",
    "#         files_processed = 0\n",
    "\n",
    "#         for file in folder.glob('*.wav'):\n",
    "#             if not 'jazz.00054' in str(file):  # skip bad example\n",
    "#                 file_list.append(file)\n",
    "#                 label_list.append(label2id[genre])\n",
    "#                 files_processed += 1\n",
    "\n",
    "#                 if files_processed >= 1700:\n",
    "#                     break  # Break out of the loop if the limit is reached\n",
    "\n",
    "#         if files_processed >= limit_per_folder:\n",
    "#             break  # Break out of the outer loop if the limit is reached for all genres\n",
    "\n",
    "#     dd = pd.DataFrame()\n",
    "#     dd['file'] = file_list\n",
    "#     dd['label'] = label_list\n",
    "#     return dd\n",
    "\n",
    "from pathlib import Path\n",
    "import torchaudio\n",
    "import pandas as pd\n",
    "\n",
    "def load_data():\n",
    "    file_list = []\n",
    "    label_list = []\n",
    "    for file in Path('/kaggle/input/bangladeshi-dialect-classification/Audio Dataset').glob('*/*.wav'):\n",
    "        if not 'jazz.00054' in str(file): # skip bad example\n",
    "            genre = file.parent.name\n",
    "            file_list.append(file)\n",
    "            label_list.append(label2id[genre])\n",
    "    dd = pd.DataFrame()\n",
    "    dd['file'] = file_list\n",
    "    dd['label'] = label_list\n",
    "    return dd"
   ]
  },
  {
   "cell_type": "code",
   "execution_count": 6,
   "metadata": {
    "execution": {
     "iopub.execute_input": "2024-12-14T08:22:37.853422Z",
     "iopub.status.busy": "2024-12-14T08:22:37.853132Z",
     "iopub.status.idle": "2024-12-14T08:22:38.569403Z",
     "shell.execute_reply": "2024-12-14T08:22:38.568546Z",
     "shell.execute_reply.started": "2024-12-14T08:22:37.853389Z"
    },
    "id": "RKi5yeC2i9Ny",
    "outputId": "f0b0d905-6b59-41da-ea35-063eb739d8c8",
    "trusted": true
   },
   "outputs": [
    {
     "name": "stdout",
     "output_type": "stream",
     "text": [
      "CPU times: user 521 ms, sys: 26.7 ms, total: 548 ms\n",
      "Wall time: 704 ms\n"
     ]
    },
    {
     "data": {
      "text/html": [
       "<div>\n",
       "<style scoped>\n",
       "    .dataframe tbody tr th:only-of-type {\n",
       "        vertical-align: middle;\n",
       "    }\n",
       "\n",
       "    .dataframe tbody tr th {\n",
       "        vertical-align: top;\n",
       "    }\n",
       "\n",
       "    .dataframe thead th {\n",
       "        text-align: right;\n",
       "    }\n",
       "</style>\n",
       "<table border=\"1\" class=\"dataframe\">\n",
       "  <thead>\n",
       "    <tr style=\"text-align: right;\">\n",
       "      <th></th>\n",
       "      <th>file</th>\n",
       "      <th>label</th>\n",
       "    </tr>\n",
       "  </thead>\n",
       "  <tbody>\n",
       "    <tr>\n",
       "      <th>0</th>\n",
       "      <td>/kaggle/input/bangladeshi-dialect-classificati...</td>\n",
       "      <td>4</td>\n",
       "    </tr>\n",
       "    <tr>\n",
       "      <th>1</th>\n",
       "      <td>/kaggle/input/bangladeshi-dialect-classificati...</td>\n",
       "      <td>4</td>\n",
       "    </tr>\n",
       "    <tr>\n",
       "      <th>2</th>\n",
       "      <td>/kaggle/input/bangladeshi-dialect-classificati...</td>\n",
       "      <td>4</td>\n",
       "    </tr>\n",
       "    <tr>\n",
       "      <th>3</th>\n",
       "      <td>/kaggle/input/bangladeshi-dialect-classificati...</td>\n",
       "      <td>4</td>\n",
       "    </tr>\n",
       "    <tr>\n",
       "      <th>4</th>\n",
       "      <td>/kaggle/input/bangladeshi-dialect-classificati...</td>\n",
       "      <td>4</td>\n",
       "    </tr>\n",
       "  </tbody>\n",
       "</table>\n",
       "</div>"
      ],
      "text/plain": [
       "                                                file  label\n",
       "0  /kaggle/input/bangladeshi-dialect-classificati...      4\n",
       "1  /kaggle/input/bangladeshi-dialect-classificati...      4\n",
       "2  /kaggle/input/bangladeshi-dialect-classificati...      4\n",
       "3  /kaggle/input/bangladeshi-dialect-classificati...      4\n",
       "4  /kaggle/input/bangladeshi-dialect-classificati...      4"
      ]
     },
     "execution_count": 6,
     "metadata": {},
     "output_type": "execute_result"
    }
   ],
   "source": [
    "%%time\n",
    "dd = load_data()\n",
    "dd.head()"
   ]
  },
  {
   "cell_type": "code",
   "execution_count": 7,
   "metadata": {
    "execution": {
     "iopub.execute_input": "2024-12-14T08:22:38.570819Z",
     "iopub.status.busy": "2024-12-14T08:22:38.570519Z",
     "iopub.status.idle": "2024-12-14T08:22:38.576273Z",
     "shell.execute_reply": "2024-12-14T08:22:38.575347Z",
     "shell.execute_reply.started": "2024-12-14T08:22:38.570793Z"
    },
    "id": "YWLYTauwi9Nz",
    "outputId": "d790ed96-a4ca-474b-cfc3-708fe056212d",
    "trusted": true
   },
   "outputs": [
    {
     "data": {
      "text/plain": [
       "(37276, 2)"
      ]
     },
     "execution_count": 7,
     "metadata": {},
     "output_type": "execute_result"
    }
   ],
   "source": [
    "dd.shape"
   ]
  },
  {
   "cell_type": "code",
   "execution_count": 8,
   "metadata": {
    "execution": {
     "iopub.execute_input": "2024-12-14T08:22:38.578046Z",
     "iopub.status.busy": "2024-12-14T08:22:38.577461Z",
     "iopub.status.idle": "2024-12-14T08:22:38.584731Z",
     "shell.execute_reply": "2024-12-14T08:22:38.583982Z",
     "shell.execute_reply.started": "2024-12-14T08:22:38.577988Z"
    },
    "id": "LIWa-5qCi9N1",
    "trusted": true
   },
   "outputs": [],
   "source": [
    "# # random oversampling of minority class # ensure that each class has the same number of records\n",
    "# y = dd[['label']]\n",
    "# dd = dd.drop(['label'], axis=1)\n",
    "# ros = RandomOverSampler(random_state=83)\n",
    "# dd, y_resampled = ros.fit_resample(dd, y)\n",
    "# del y\n",
    "# dd['label'] = y_resampled\n",
    "# del y_resampled\n",
    "# gc.collect()"
   ]
  },
  {
   "cell_type": "code",
   "execution_count": 9,
   "metadata": {
    "execution": {
     "iopub.execute_input": "2024-12-14T08:22:38.585956Z",
     "iopub.status.busy": "2024-12-14T08:22:38.585679Z",
     "iopub.status.idle": "2024-12-14T08:22:38.598399Z",
     "shell.execute_reply": "2024-12-14T08:22:38.597581Z",
     "shell.execute_reply.started": "2024-12-14T08:22:38.585930Z"
    },
    "id": "jTXq5Nlii9N7",
    "outputId": "435e1702-5489-43ec-d717-4b7fa145fb72",
    "trusted": true
   },
   "outputs": [
    {
     "data": {
      "text/plain": [
       "((37276, 2),\n",
       " label\n",
       " 4    4355\n",
       " 2    4260\n",
       " 3    4239\n",
       " 1    4209\n",
       " 0    4162\n",
       " 8    4147\n",
       " 6    4147\n",
       " 5    3965\n",
       " 7    3792\n",
       " Name: count, dtype: int64)"
      ]
     },
     "execution_count": 9,
     "metadata": {},
     "output_type": "execute_result"
    }
   ],
   "source": [
    "dd.shape, dd['label'].value_counts()"
   ]
  },
  {
   "cell_type": "code",
   "execution_count": 10,
   "metadata": {
    "execution": {
     "iopub.execute_input": "2024-12-14T08:22:38.601589Z",
     "iopub.status.busy": "2024-12-14T08:22:38.601301Z",
     "iopub.status.idle": "2024-12-14T08:22:38.606088Z",
     "shell.execute_reply": "2024-12-14T08:22:38.605384Z",
     "shell.execute_reply.started": "2024-12-14T08:22:38.601550Z"
    },
    "trusted": true
   },
   "outputs": [],
   "source": [
    "# import gc"
   ]
  },
  {
   "cell_type": "code",
   "execution_count": 11,
   "metadata": {
    "execution": {
     "iopub.execute_input": "2024-12-14T08:22:38.607346Z",
     "iopub.status.busy": "2024-12-14T08:22:38.607041Z",
     "iopub.status.idle": "2024-12-14T08:22:40.747085Z",
     "shell.execute_reply": "2024-12-14T08:22:40.745918Z",
     "shell.execute_reply.started": "2024-12-14T08:22:38.607321Z"
    },
    "id": "C9rZyOyQi9N9",
    "trusted": true
   },
   "outputs": [],
   "source": [
    "gc.collect()\n",
    "!export LRU_CACHE_CAPACITY=1\n",
    "!export 'PYTORCH_CUDA_ALLOC_CONF=max_split_size_mb:512'"
   ]
  },
  {
   "cell_type": "code",
   "execution_count": 12,
   "metadata": {
    "execution": {
     "iopub.execute_input": "2024-12-14T08:22:40.749574Z",
     "iopub.status.busy": "2024-12-14T08:22:40.748807Z",
     "iopub.status.idle": "2024-12-14T08:29:16.261559Z",
     "shell.execute_reply": "2024-12-14T08:29:16.260279Z",
     "shell.execute_reply.started": "2024-12-14T08:22:40.749502Z"
    },
    "id": "d3hwMFhSi9N-",
    "outputId": "8d4ee849-0a48-4daa-ff2c-a0c14fcaddfa",
    "trusted": true
   },
   "outputs": [
    {
     "name": "stderr",
     "output_type": "stream",
     "text": [
      "100%|██████████| 37276/37276 [06:35<00:00, 94.25it/s] \n"
     ]
    }
   ],
   "source": [
    "def get_transform_audio(file):\n",
    "    audio,rate = torchaudio.load(str(file))\n",
    "    transform = torchaudio.transforms.Resample(rate,RATE_HZ)\n",
    "    audio = transform(audio).squeeze(0).numpy()\n",
    "    audio = audio[:MAX_LENGTH]\n",
    "    return audio # truncate to first part of audio to save RAM\n",
    "dd['audio'] = dd['file'].progress_apply(get_transform_audio)"
   ]
  },
  {
   "cell_type": "code",
   "execution_count": 13,
   "metadata": {
    "execution": {
     "iopub.execute_input": "2024-12-14T08:29:16.263846Z",
     "iopub.status.busy": "2024-12-14T08:29:16.262901Z",
     "iopub.status.idle": "2024-12-14T08:29:16.275684Z",
     "shell.execute_reply": "2024-12-14T08:29:16.274440Z",
     "shell.execute_reply.started": "2024-12-14T08:29:16.263801Z"
    },
    "id": "TfQyvOHQi9N_",
    "outputId": "32d91f6f-b973-4641-baf7-127e4069d4f5",
    "trusted": true
   },
   "outputs": [
    {
     "name": "stdout",
     "output_type": "stream",
     "text": [
      "CPU times: user 5.59 ms, sys: 192 µs, total: 5.78 ms\n",
      "Wall time: 5.06 ms\n"
     ]
    }
   ],
   "source": [
    "%%time\n",
    "dd = dd.drop(['file'], axis=1)"
   ]
  },
  {
   "cell_type": "code",
   "execution_count": 14,
   "metadata": {
    "execution": {
     "iopub.execute_input": "2024-12-14T08:29:16.277380Z",
     "iopub.status.busy": "2024-12-14T08:29:16.276987Z",
     "iopub.status.idle": "2024-12-14T08:29:16.296601Z",
     "shell.execute_reply": "2024-12-14T08:29:16.295792Z",
     "shell.execute_reply.started": "2024-12-14T08:29:16.277340Z"
    },
    "id": "KnfmCpCAi9OA",
    "outputId": "6d1cef01-d86a-49ef-9b6e-d719123da5bb",
    "trusted": true
   },
   "outputs": [
    {
     "data": {
      "text/html": [
       "<div>\n",
       "<style scoped>\n",
       "    .dataframe tbody tr th:only-of-type {\n",
       "        vertical-align: middle;\n",
       "    }\n",
       "\n",
       "    .dataframe tbody tr th {\n",
       "        vertical-align: top;\n",
       "    }\n",
       "\n",
       "    .dataframe thead th {\n",
       "        text-align: right;\n",
       "    }\n",
       "</style>\n",
       "<table border=\"1\" class=\"dataframe\">\n",
       "  <thead>\n",
       "    <tr style=\"text-align: right;\">\n",
       "      <th></th>\n",
       "      <th>label</th>\n",
       "      <th>audio</th>\n",
       "    </tr>\n",
       "  </thead>\n",
       "  <tbody>\n",
       "    <tr>\n",
       "      <th>16683</th>\n",
       "      <td>5</td>\n",
       "      <td>[-0.084198, -0.076934814, -0.036254883, 0.0264...</td>\n",
       "    </tr>\n",
       "    <tr>\n",
       "      <th>35822</th>\n",
       "      <td>2</td>\n",
       "      <td>[-0.05203247, -0.040740967, -0.01876831, -0.04...</td>\n",
       "    </tr>\n",
       "    <tr>\n",
       "      <th>24072</th>\n",
       "      <td>0</td>\n",
       "      <td>[-0.088378906, -0.13504028, -0.17346191, -0.15...</td>\n",
       "    </tr>\n",
       "    <tr>\n",
       "      <th>34020</th>\n",
       "      <td>2</td>\n",
       "      <td>[0.012176514, 0.021606445, 0.018249512, 0.0075...</td>\n",
       "    </tr>\n",
       "    <tr>\n",
       "      <th>16878</th>\n",
       "      <td>6</td>\n",
       "      <td>[0.0, 0.0, -3.0517578e-05, -3.0517578e-05, 0.0...</td>\n",
       "    </tr>\n",
       "  </tbody>\n",
       "</table>\n",
       "</div>"
      ],
      "text/plain": [
       "       label                                              audio\n",
       "16683      5  [-0.084198, -0.076934814, -0.036254883, 0.0264...\n",
       "35822      2  [-0.05203247, -0.040740967, -0.01876831, -0.04...\n",
       "24072      0  [-0.088378906, -0.13504028, -0.17346191, -0.15...\n",
       "34020      2  [0.012176514, 0.021606445, 0.018249512, 0.0075...\n",
       "16878      6  [0.0, 0.0, -3.0517578e-05, -3.0517578e-05, 0.0..."
      ]
     },
     "execution_count": 14,
     "metadata": {},
     "output_type": "execute_result"
    }
   ],
   "source": [
    "dd.sample(5)"
   ]
  },
  {
   "cell_type": "code",
   "execution_count": 15,
   "metadata": {
    "execution": {
     "iopub.execute_input": "2024-12-14T08:29:16.298304Z",
     "iopub.status.busy": "2024-12-14T08:29:16.297984Z",
     "iopub.status.idle": "2024-12-14T08:29:16.306903Z",
     "shell.execute_reply": "2024-12-14T08:29:16.305732Z",
     "shell.execute_reply.started": "2024-12-14T08:29:16.298276Z"
    },
    "id": "nJ3-C1cSi9OE",
    "trusted": true
   },
   "outputs": [],
   "source": [
    "# gc.collect()\n",
    "# !export LRU_CACHE_CAPACITY=1\n",
    "# !export 'PYTORCH_CUDA_ALLOC_CONF=max_split_size_mb:512'"
   ]
  },
  {
   "cell_type": "code",
   "execution_count": 16,
   "metadata": {
    "execution": {
     "iopub.execute_input": "2024-12-14T08:29:16.308484Z",
     "iopub.status.busy": "2024-12-14T08:29:16.308104Z",
     "iopub.status.idle": "2024-12-14T08:30:27.817001Z",
     "shell.execute_reply": "2024-12-14T08:30:27.813590Z",
     "shell.execute_reply.started": "2024-12-14T08:29:16.308443Z"
    },
    "id": "aPyusYzOi9OF",
    "trusted": true
   },
   "outputs": [],
   "source": [
    "# from datasets import Dataset, ClassLabel\n",
    "# dd = Dataset.from_pandas(dd)\n",
    "\n",
    "from datasets import Dataset, concatenate_datasets\n",
    "\n",
    "def dataframe_to_dataset_in_batches(df, batch_size=10000):\n",
    "    datasets = []\n",
    "    for start in range(0, len(df), batch_size):\n",
    "        batch = Dataset.from_pandas(df.iloc[start:start+batch_size])\n",
    "        datasets.append(batch)\n",
    "    return concatenate_datasets(datasets)\n",
    "\n",
    "dd_dataset = dataframe_to_dataset_in_batches(dd)\n"
   ]
  },
  {
   "cell_type": "code",
   "execution_count": 17,
   "metadata": {
    "execution": {
     "iopub.execute_input": "2024-12-14T08:30:27.819265Z",
     "iopub.status.busy": "2024-12-14T08:30:27.818978Z",
     "iopub.status.idle": "2024-12-14T08:30:27.840459Z",
     "shell.execute_reply": "2024-12-14T08:30:27.839809Z",
     "shell.execute_reply.started": "2024-12-14T08:30:27.819237Z"
    },
    "id": "DMQMzNr3i9OG",
    "outputId": "26728dff-0d96-40a0-a60f-a615258a295c",
    "trusted": true
   },
   "outputs": [
    {
     "data": {
      "text/plain": [
       "dict_items([(4, 4355), (3, 4239), (8, 4147), (5, 3965), (6, 4147), (0, 4162), (1, 4209), (7, 3792), (2, 4260)])"
      ]
     },
     "execution_count": 17,
     "metadata": {},
     "output_type": "execute_result"
    }
   ],
   "source": [
    "from collections import Counter\n",
    "Counter(dd_dataset['label']).items()"
   ]
  },
  {
   "cell_type": "code",
   "execution_count": 18,
   "metadata": {
    "execution": {
     "iopub.execute_input": "2024-12-14T08:30:27.841697Z",
     "iopub.status.busy": "2024-12-14T08:30:27.841376Z",
     "iopub.status.idle": "2024-12-14T08:30:27.937803Z",
     "shell.execute_reply": "2024-12-14T08:30:27.936910Z",
     "shell.execute_reply.started": "2024-12-14T08:30:27.841672Z"
    },
    "id": "9vvgYpGFi9OI",
    "outputId": "0b3fddb2-4c8d-49e6-e965-80ac15af5318",
    "trusted": true
   },
   "outputs": [
    {
     "data": {
      "text/plain": [
       "DatasetDict({\n",
       "    train: Dataset({\n",
       "        features: ['label', 'audio'],\n",
       "        num_rows: 29820\n",
       "    })\n",
       "    test: Dataset({\n",
       "        features: ['label', 'audio'],\n",
       "        num_rows: 7456\n",
       "    })\n",
       "})"
      ]
     },
     "execution_count": 18,
     "metadata": {},
     "output_type": "execute_result"
    }
   ],
   "source": [
    "dd = dd_dataset.train_test_split(test_size=0.2)\n",
    "dd"
   ]
  },
  {
   "cell_type": "code",
   "execution_count": 19,
   "metadata": {
    "execution": {
     "iopub.execute_input": "2024-12-14T08:30:27.939815Z",
     "iopub.status.busy": "2024-12-14T08:30:27.939058Z",
     "iopub.status.idle": "2024-12-14T08:30:28.129887Z",
     "shell.execute_reply": "2024-12-14T08:30:28.129015Z",
     "shell.execute_reply.started": "2024-12-14T08:30:27.939772Z"
    },
    "id": "o8-A5ofji9OJ",
    "outputId": "27b80f0c-67ec-4335-a34b-c6524d4fcb61",
    "trusted": true
   },
   "outputs": [
    {
     "data": {
      "text/plain": [
       "124"
      ]
     },
     "execution_count": 19,
     "metadata": {},
     "output_type": "execute_result"
    }
   ],
   "source": [
    "gc.collect()"
   ]
  },
  {
   "cell_type": "markdown",
   "metadata": {
    "id": "M8Laf1ixi9OL"
   },
   "source": [
    "# Load facebook/wav2vec2-base-960h model"
   ]
  },
  {
   "cell_type": "code",
   "execution_count": 20,
   "metadata": {
    "colab": {
     "referenced_widgets": [
      "58141deb82d944fe8caf0fae5d8acce8",
      "d2d0dc4e549a4b8980dffd955ea9551c",
      "5019afddf7a04306862872fa3b626c7f"
     ]
    },
    "execution": {
     "iopub.execute_input": "2024-12-14T08:30:28.131185Z",
     "iopub.status.busy": "2024-12-14T08:30:28.130940Z",
     "iopub.status.idle": "2024-12-14T08:30:32.248371Z",
     "shell.execute_reply": "2024-12-14T08:30:32.247487Z",
     "shell.execute_reply.started": "2024-12-14T08:30:28.131162Z"
    },
    "id": "2QUtg8nYi9OM",
    "outputId": "47960db6-0201-45cf-ca89-53dad7a4b243",
    "trusted": true
   },
   "outputs": [
    {
     "name": "stderr",
     "output_type": "stream",
     "text": [
      "Some weights of the model checkpoint at facebook/wav2vec2-base-960h were not used when initializing Wav2Vec2ForSequenceClassification: ['lm_head.weight', 'lm_head.bias']\n",
      "- This IS expected if you are initializing Wav2Vec2ForSequenceClassification from the checkpoint of a model trained on another task or with another architecture (e.g. initializing a BertForSequenceClassification model from a BertForPreTraining model).\n",
      "- This IS NOT expected if you are initializing Wav2Vec2ForSequenceClassification from the checkpoint of a model that you expect to be exactly identical (initializing a BertForSequenceClassification model from a BertForSequenceClassification model).\n",
      "Some weights of Wav2Vec2ForSequenceClassification were not initialized from the model checkpoint at facebook/wav2vec2-base-960h and are newly initialized: ['projector.weight', 'classifier.weight', 'wav2vec2.masked_spec_embed', 'classifier.bias', 'projector.bias']\n",
      "You should probably TRAIN this model on a down-stream task to be able to use it for predictions and inference.\n"
     ]
    },
    {
     "name": "stdout",
     "output_type": "stream",
     "text": [
      "94.570889\n"
     ]
    }
   ],
   "source": [
    "from transformers import AutoFeatureExtractor, AutoModelForAudioClassification\n",
    "\n",
    "model_str = \"facebook/wav2vec2-base-960h\"\n",
    "feature_extractor = AutoFeatureExtractor.from_pretrained(model_str)\n",
    "model = AutoModelForAudioClassification.from_pretrained(model_str,num_labels=len(labels))\n",
    "model.config.id2label = id2label\n",
    "# number of trainable parameters\n",
    "print(model.num_parameters(only_trainable=True)/1e6)"
   ]
  },
  {
   "cell_type": "code",
   "execution_count": 21,
   "metadata": {
    "execution": {
     "iopub.execute_input": "2024-12-14T08:30:32.250610Z",
     "iopub.status.busy": "2024-12-14T08:30:32.249647Z",
     "iopub.status.idle": "2024-12-14T08:30:32.254205Z",
     "shell.execute_reply": "2024-12-14T08:30:32.253301Z",
     "shell.execute_reply.started": "2024-12-14T08:30:32.250564Z"
    },
    "id": "gqRDtI3Ri9OO",
    "trusted": true
   },
   "outputs": [],
   "source": [
    "# !export LRU_CACHE_CAPACITY=1\n",
    "# !export 'PYTORCH_CUDA_ALLOC_CONF=max_split_size_mb:512'"
   ]
  },
  {
   "cell_type": "code",
   "execution_count": 22,
   "metadata": {
    "execution": {
     "iopub.execute_input": "2024-12-14T08:30:32.255613Z",
     "iopub.status.busy": "2024-12-14T08:30:32.255310Z",
     "iopub.status.idle": "2024-12-14T08:30:32.266294Z",
     "shell.execute_reply": "2024-12-14T08:30:32.265424Z",
     "shell.execute_reply.started": "2024-12-14T08:30:32.255586Z"
    },
    "id": "u5KqdjQEi9OP",
    "outputId": "ef6a6528-626b-4ce4-f40e-cc217c99a3d5",
    "trusted": true
   },
   "outputs": [],
   "source": [
    "# gc.collect()"
   ]
  },
  {
   "cell_type": "code",
   "execution_count": 23,
   "metadata": {
    "execution": {
     "iopub.execute_input": "2024-12-14T08:30:32.267840Z",
     "iopub.status.busy": "2024-12-14T08:30:32.267410Z",
     "iopub.status.idle": "2024-12-14T08:30:32.275993Z",
     "shell.execute_reply": "2024-12-14T08:30:32.275173Z",
     "shell.execute_reply.started": "2024-12-14T08:30:32.267801Z"
    },
    "id": "TePyW7AZi9OU",
    "outputId": "d6654c8b-5ba1-47f7-bb61-b738f24a0e54",
    "trusted": true
   },
   "outputs": [],
   "source": [
    "# !export LRU_CACHE_CAPACITY=1\n",
    "# !export 'PYTORCH_CUDA_ALLOC_CONF=max_split_size_mb:512'\n",
    "# gc.collect()"
   ]
  },
  {
   "cell_type": "code",
   "execution_count": 24,
   "metadata": {
    "colab": {
     "referenced_widgets": [
      "6da9e1442c1c4b789240509e7960616a",
      "a230015da8204773a5a22d93c19be523"
     ]
    },
    "execution": {
     "iopub.execute_input": "2024-12-14T08:30:32.277197Z",
     "iopub.status.busy": "2024-12-14T08:30:32.276946Z",
     "iopub.status.idle": "2024-12-14T08:42:51.393789Z",
     "shell.execute_reply": "2024-12-14T08:42:51.392759Z",
     "shell.execute_reply.started": "2024-12-14T08:30:32.277173Z"
    },
    "id": "Jg6N0izpi9OZ",
    "outputId": "baa70fd7-34e7-4692-e5f7-de90b05f7389",
    "trusted": true
   },
   "outputs": [
    {
     "data": {
      "application/vnd.jupyter.widget-view+json": {
       "model_id": "d7dbb8a3860e4531a209d5b8832ae953",
       "version_major": 2,
       "version_minor": 0
      },
      "text/plain": [
       "Map:   0%|          | 0/7456 [00:00<?, ? examples/s]"
      ]
     },
     "metadata": {},
     "output_type": "display_data"
    },
    {
     "data": {
      "application/vnd.jupyter.widget-view+json": {
       "model_id": "705f34db9a44409fae78983c035a3269",
       "version_major": 2,
       "version_minor": 0
      },
      "text/plain": [
       "Map:   0%|          | 0/29820 [00:00<?, ? examples/s]"
      ]
     },
     "metadata": {},
     "output_type": "display_data"
    }
   ],
   "source": [
    "def preprocess_function(batch):\n",
    "    inputs = feature_extractor(batch['audio'], sampling_rate=RATE_HZ, max_length=MAX_LENGTH, truncation=True)\n",
    "    inputs['input_values'] = inputs['input_values'][0]\n",
    "    return inputs\n",
    "\n",
    "dd['test'] = dd['test'].map(preprocess_function, remove_columns=\"audio\", batched=False)\n",
    "!export LRU_CACHE_CAPACITY=1\n",
    "!export 'PYTORCH_CUDA_ALLOC_CONF=max_split_size_mb:512'\n",
    "gc.collect()\n",
    "dd['train'] = dd['train'].map(preprocess_function, remove_columns=\"audio\", batched=False)"
   ]
  },
  {
   "cell_type": "code",
   "execution_count": 31,
   "metadata": {
    "execution": {
     "iopub.execute_input": "2024-12-14T08:43:33.210784Z",
     "iopub.status.busy": "2024-12-14T08:43:33.210389Z",
     "iopub.status.idle": "2024-12-14T08:43:36.914658Z",
     "shell.execute_reply": "2024-12-14T08:43:36.913541Z",
     "shell.execute_reply.started": "2024-12-14T08:43:33.210755Z"
    },
    "id": "906YYy9ri9Ob",
    "trusted": true
   },
   "outputs": [],
   "source": [
    "gc.collect()\n",
    "!export LRU_CACHE_CAPACITY=1\n",
    "!export 'PYTORCH_CUDA_ALLOC_CONF=max_split_size_mb:512'"
   ]
  },
  {
   "cell_type": "markdown",
   "metadata": {
    "id": "8832q4I_i9Ob"
   },
   "source": [
    "# Train and evaluate model"
   ]
  },
  {
   "cell_type": "code",
   "execution_count": 26,
   "metadata": {
    "colab": {
     "referenced_widgets": [
      "cfe3acfbf16b44428fe53a923d37894f"
     ]
    },
    "execution": {
     "iopub.execute_input": "2024-12-14T08:42:54.988885Z",
     "iopub.status.busy": "2024-12-14T08:42:54.988509Z",
     "iopub.status.idle": "2024-12-14T08:42:56.484979Z",
     "shell.execute_reply": "2024-12-14T08:42:56.484264Z",
     "shell.execute_reply.started": "2024-12-14T08:42:54.988853Z"
    },
    "id": "qHT6Mm5-i9Ob",
    "outputId": "37f5f704-a61e-433a-90f5-5d210aff5c76",
    "trusted": true
   },
   "outputs": [],
   "source": [
    "import evaluate\n",
    "\n",
    "accuracy = evaluate.load(\"accuracy\")\n",
    "\n",
    "from sklearn.metrics import roc_auc_score\n",
    "def compute_metrics(eval_pred):\n",
    "    # Compute the ROC AUC score\n",
    "    predictions = eval_pred.predictions\n",
    "    predictions = np.exp(predictions)/np.exp(predictions).sum(axis=1, keepdims=True)\n",
    "    label_ids = eval_pred.label_ids\n",
    "    roc_auc = roc_auc_score(label_ids, predictions, average='macro', multi_class='ovr') # one-vs-rest ROC AUC score\n",
    "\n",
    "    # Calculate accuracy using the loaded accuracy metric\n",
    "    acc_score = accuracy.compute(predictions=predictions.argmax(axis=1), references=label_ids)['accuracy']\n",
    "\n",
    "    return {\n",
    "        \"roc_auc\": roc_auc,\n",
    "        \"accuracy\": acc_score\n",
    "    }"
   ]
  },
  {
   "cell_type": "code",
   "execution_count": 27,
   "metadata": {
    "colab": {
     "referenced_widgets": [
      "232a497fb1754083858f410742258317"
     ]
    },
    "execution": {
     "iopub.execute_input": "2024-12-14T08:42:56.486304Z",
     "iopub.status.busy": "2024-12-14T08:42:56.486021Z",
     "iopub.status.idle": "2024-12-14T08:42:56.490159Z",
     "shell.execute_reply": "2024-12-14T08:42:56.489176Z",
     "shell.execute_reply.started": "2024-12-14T08:42:56.486277Z"
    },
    "id": "kgIUaWsYi9Oc",
    "outputId": "90cc288c-5ee3-4d0e-b3d0-919fe0f9471e",
    "trusted": true
   },
   "outputs": [],
   "source": [
    "# from huggingface_hub import notebook_login\n",
    "# notebook_login()"
   ]
  },
  {
   "cell_type": "code",
   "execution_count": null,
   "metadata": {
    "execution": {
     "iopub.execute_input": "2024-12-14T08:42:56.495393Z",
     "iopub.status.busy": "2024-12-14T08:42:56.495161Z",
     "iopub.status.idle": "2024-12-14T08:42:56.633175Z",
     "shell.execute_reply": "2024-12-14T08:42:56.632576Z",
     "shell.execute_reply.started": "2024-12-14T08:42:56.495371Z"
    },
    "trusted": true
   },
   "outputs": [],
   "source": [
    "# import os\n",
    "# from huggingface_hub import login\n",
    "\n",
    "# # Set the token as an environment variable\n",
    "# os.environ[\"HUGGINGFACE_TOKEN\"] = \"Provide_the_token_here\"\n",
    "\n",
    "# # Login using the token\n",
    "# hf_token = os.getenv(\"HUGGINGFACE_TOKEN\")\n",
    "# login(token=hf_token)"
   ]
  },
  {
   "cell_type": "code",
   "execution_count": null,
   "metadata": {
    "execution": {
     "iopub.execute_input": "2024-12-14T08:42:56.634226Z",
     "iopub.status.busy": "2024-12-14T08:42:56.633982Z",
     "iopub.status.idle": "2024-12-14T08:42:56.637890Z",
     "shell.execute_reply": "2024-12-14T08:42:56.637043Z",
     "shell.execute_reply.started": "2024-12-14T08:42:56.634201Z"
    },
    "trusted": true
   },
   "outputs": [],
   "source": [
    "# import huggingface_hub"
   ]
  },
  {
   "cell_type": "code",
   "execution_count": null,
   "metadata": {},
   "outputs": [],
   "source": [
    "# huggingface_hub.whoami()"
   ]
  },
  {
   "cell_type": "code",
   "execution_count": null,
   "metadata": {
    "trusted": true
   },
   "outputs": [],
   "source": [
    "# from huggingface_hub import logout\n",
    "\n",
    "# # Logout from Hugging Face Hub\n",
    "# logout()"
   ]
  },
  {
   "cell_type": "code",
   "execution_count": 39,
   "metadata": {
    "colab": {
     "referenced_widgets": [
      "ec79cbdd7f4b41729a17b44c035d10b8",
      "10295d5e13004fa8975fec69a6f79b75",
      "bfc91641524c492b872fdf409cc93249"
     ]
    },
    "execution": {
     "iopub.execute_input": "2024-12-14T08:45:51.609783Z",
     "iopub.status.busy": "2024-12-14T08:45:51.609124Z",
     "iopub.status.idle": "2024-12-14T08:45:51.615577Z",
     "shell.execute_reply": "2024-12-14T08:45:51.614617Z",
     "shell.execute_reply.started": "2024-12-14T08:45:51.609743Z"
    },
    "id": "XuLswAr3i9Od",
    "outputId": "69833c17-6f69-4b4b-8f45-42b3178b84ec",
    "trusted": true
   },
   "outputs": [],
   "source": [
    "from transformers import TrainingArguments, Trainer\n",
    "batch_size=4\n",
    "warmup_steps=50\n",
    "weight_decay=0.02\n",
    "num_train_epochs=8\n",
    "model_name = \"wav2vec2-base-960h\"\n",
    "training_args = TrainingArguments(\n",
    "    f\"{model_name}-finetuned-bengalAudio\",\n",
    "    num_train_epochs=num_train_epochs,\n",
    "    per_device_train_batch_size=batch_size,\n",
    "    per_device_eval_batch_size=batch_size,\n",
    "    learning_rate=1e-5, # 5e-6\n",
    "    logging_strategy='steps',\n",
    "    logging_first_step=True,\n",
    "    load_best_model_at_end=True,\n",
    "    logging_steps=1,\n",
    "    evaluation_strategy='epoch',\n",
    "    warmup_steps=warmup_steps,\n",
    "    weight_decay=weight_decay,\n",
    "    eval_steps=1,\n",
    "    gradient_accumulation_steps=1,\n",
    "    gradient_checkpointing=True,\n",
    "    save_strategy='epoch',\n",
    "    push_to_hub=True,\n",
    "    save_total_limit=1, # save fewer checkpoints to limit used space\n",
    "    report_to=\"mlflow\",  # log to mlflow\n",
    ")\n"
   ]
  },
  {
   "cell_type": "code",
   "execution_count": 40,
   "metadata": {
    "execution": {
     "iopub.execute_input": "2024-12-14T08:45:55.282583Z",
     "iopub.status.busy": "2024-12-14T08:45:55.282193Z",
     "iopub.status.idle": "2024-12-14T08:45:59.944743Z",
     "shell.execute_reply": "2024-12-14T08:45:59.943976Z",
     "shell.execute_reply.started": "2024-12-14T08:45:55.282526Z"
    },
    "trusted": true
   },
   "outputs": [
    {
     "name": "stderr",
     "output_type": "stream",
     "text": [
      "Cloning https://huggingface.co/joy37/wav2vec2-base-960h-finetuned-bengalAudio into local empty directory.\n"
     ]
    }
   ],
   "source": [
    "trainer = Trainer(\n",
    "    model=model,\n",
    "    args=training_args,\n",
    "    train_dataset=dd[\"train\"],\n",
    "    eval_dataset=dd[\"test\"],\n",
    "    tokenizer=feature_extractor,\n",
    "    compute_metrics=compute_metrics,\n",
    ")"
   ]
  },
  {
   "cell_type": "code",
   "execution_count": null,
   "metadata": {
    "id": "vkEscDdvi9Of",
    "trusted": true
   },
   "outputs": [],
   "source": [
    "# !export LRU_CACHE_CAPACITY=1\n",
    "# !export 'PYTORCH_CUDA_ALLOC_CONF=max_split_size_mb:512'\n",
    "# gc.collect()"
   ]
  },
  {
   "cell_type": "code",
   "execution_count": null,
   "metadata": {
    "id": "nUOiiJEqi9Oi",
    "trusted": true
   },
   "outputs": [],
   "source": [
    "# !export LRU_CACHE_CAPACITY=1\n",
    "# !export 'PYTORCH_CUDA_ALLOC_CONF=max_split_size_mb:512'\n",
    "# gc.collect()"
   ]
  },
  {
   "cell_type": "code",
   "execution_count": 41,
   "metadata": {
    "execution": {
     "iopub.execute_input": "2024-12-14T08:46:03.372224Z",
     "iopub.status.busy": "2024-12-14T08:46:03.371857Z",
     "iopub.status.idle": "2024-12-14T13:41:53.555931Z",
     "shell.execute_reply": "2024-12-14T13:41:53.554991Z",
     "shell.execute_reply.started": "2024-12-14T08:46:03.372192Z"
    },
    "id": "AIBHqS_7i9Oj",
    "trusted": true
   },
   "outputs": [
    {
     "data": {
      "text/html": [
       "\n",
       "    <div>\n",
       "      \n",
       "      <progress value='59640' max='59640' style='width:300px; height:20px; vertical-align: middle;'></progress>\n",
       "      [59640/59640 4:55:48, Epoch 8/8]\n",
       "    </div>\n",
       "    <table border=\"1\" class=\"dataframe\">\n",
       "  <thead>\n",
       " <tr style=\"text-align: left;\">\n",
       "      <th>Epoch</th>\n",
       "      <th>Training Loss</th>\n",
       "      <th>Validation Loss</th>\n",
       "      <th>Roc Auc</th>\n",
       "      <th>Accuracy</th>\n",
       "    </tr>\n",
       "  </thead>\n",
       "  <tbody>\n",
       "    <tr>\n",
       "      <td>1</td>\n",
       "      <td>0.865200</td>\n",
       "      <td>1.220727</td>\n",
       "      <td>0.897778</td>\n",
       "      <td>0.585837</td>\n",
       "    </tr>\n",
       "    <tr>\n",
       "      <td>2</td>\n",
       "      <td>0.052600</td>\n",
       "      <td>1.100592</td>\n",
       "      <td>0.932635</td>\n",
       "      <td>0.716336</td>\n",
       "    </tr>\n",
       "    <tr>\n",
       "      <td>3</td>\n",
       "      <td>0.457300</td>\n",
       "      <td>0.971311</td>\n",
       "      <td>0.951193</td>\n",
       "      <td>0.764887</td>\n",
       "    </tr>\n",
       "    <tr>\n",
       "      <td>4</td>\n",
       "      <td>0.422600</td>\n",
       "      <td>1.001533</td>\n",
       "      <td>0.962734</td>\n",
       "      <td>0.804989</td>\n",
       "    </tr>\n",
       "    <tr>\n",
       "      <td>5</td>\n",
       "      <td>0.003500</td>\n",
       "      <td>0.837777</td>\n",
       "      <td>0.971676</td>\n",
       "      <td>0.830472</td>\n",
       "    </tr>\n",
       "    <tr>\n",
       "      <td>6</td>\n",
       "      <td>0.034500</td>\n",
       "      <td>0.813776</td>\n",
       "      <td>0.975048</td>\n",
       "      <td>0.841336</td>\n",
       "    </tr>\n",
       "    <tr>\n",
       "      <td>7</td>\n",
       "      <td>0.647200</td>\n",
       "      <td>0.868073</td>\n",
       "      <td>0.975400</td>\n",
       "      <td>0.853138</td>\n",
       "    </tr>\n",
       "    <tr>\n",
       "      <td>8</td>\n",
       "      <td>0.004400</td>\n",
       "      <td>0.874119</td>\n",
       "      <td>0.976600</td>\n",
       "      <td>0.854345</td>\n",
       "    </tr>\n",
       "  </tbody>\n",
       "</table><p>"
      ],
      "text/plain": [
       "<IPython.core.display.HTML object>"
      ]
     },
     "metadata": {},
     "output_type": "display_data"
    }
   ],
   "source": [
    "# # trainer.train() \n",
    "# from mlflow import end_run, start_run\n",
    "\n",
    "# # End the previous run\n",
    "# end_run()\n",
    "\n",
    "# # Start a new MLflow run\n",
    "# with start_run():\n",
    "#     train_results = trainer.train()\n",
    "train_results = trainer.train()\n"
   ]
  },
  {
   "cell_type": "code",
   "execution_count": null,
   "metadata": {
    "id": "VrlBI-6li9Ol",
    "trusted": true
   },
   "outputs": [],
   "source": [
    "# !export LRU_CACHE_CAPACITY=1\n",
    "# !export 'PYTORCH_CUDA_ALLOC_CONF=max_split_size_mb:512'\n",
    "# gc.collect()"
   ]
  },
  {
   "cell_type": "code",
   "execution_count": null,
   "metadata": {
    "id": "HPscbmAfi9Om",
    "trusted": true
   },
   "outputs": [],
   "source": [
    "trainer.evaluate()"
   ]
  },
  {
   "cell_type": "code",
   "execution_count": null,
   "metadata": {
    "id": "I9vKknzzi9Oq",
    "trusted": true
   },
   "outputs": [],
   "source": [
    "# !export LRU_CACHE_CAPACITY=1\n",
    "# !export 'PYTORCH_CUDA_ALLOC_CONF=max_split_size_mb:512'\n",
    "# gc.collect()"
   ]
  },
  {
   "cell_type": "code",
   "execution_count": null,
   "metadata": {
    "id": "7hvlpgzxi9Ou",
    "trusted": true
   },
   "outputs": [],
   "source": [
    "# trainer.save_model()"
   ]
  },
  {
   "cell_type": "code",
   "execution_count": 53,
   "metadata": {
    "execution": {
     "iopub.execute_input": "2024-12-14T13:58:55.441854Z",
     "iopub.status.busy": "2024-12-14T13:58:55.441042Z",
     "iopub.status.idle": "2024-12-14T13:58:55.446860Z",
     "shell.execute_reply": "2024-12-14T13:58:55.446013Z",
     "shell.execute_reply.started": "2024-12-14T13:58:55.441821Z"
    },
    "trusted": true
   },
   "outputs": [
    {
     "data": {
      "text/plain": [
       "TrainOutput(global_step=59640, training_loss=0.8565613699488663, metrics={'train_runtime': 17750.1245, 'train_samples_per_second': 13.44, 'train_steps_per_second': 3.36, 'total_flos': 6.49751940859392e+18, 'train_loss': 0.8565613699488663, 'epoch': 8.0})"
      ]
     },
     "execution_count": 53,
     "metadata": {},
     "output_type": "execute_result"
    }
   ],
   "source": [
    "train_results"
   ]
  },
  {
   "cell_type": "code",
   "execution_count": 43,
   "metadata": {
    "execution": {
     "iopub.execute_input": "2024-12-14T13:45:41.146073Z",
     "iopub.status.busy": "2024-12-14T13:45:41.145799Z",
     "iopub.status.idle": "2024-12-14T13:49:24.397018Z",
     "shell.execute_reply": "2024-12-14T13:49:24.396290Z",
     "shell.execute_reply.started": "2024-12-14T13:45:41.146048Z"
    },
    "trusted": true
   },
   "outputs": [
    {
     "data": {
      "text/html": [],
      "text/plain": [
       "<IPython.core.display.HTML object>"
      ]
     },
     "metadata": {},
     "output_type": "display_data"
    }
   ],
   "source": [
    "predictions = trainer.predict(dd['test'])"
   ]
  },
  {
   "cell_type": "code",
   "execution_count": 44,
   "metadata": {
    "execution": {
     "iopub.execute_input": "2024-12-14T13:49:50.683648Z",
     "iopub.status.busy": "2024-12-14T13:49:50.682882Z",
     "iopub.status.idle": "2024-12-14T13:49:50.691074Z",
     "shell.execute_reply": "2024-12-14T13:49:50.690198Z",
     "shell.execute_reply.started": "2024-12-14T13:49:50.683612Z"
    },
    "trusted": true
   },
   "outputs": [
    {
     "data": {
      "text/plain": [
       "PredictionOutput(predictions=array([[ 9.4989195 , -1.0021019 , -0.87756574, ..., -0.16608557,\n",
       "        -0.4203025 , -1.2665192 ],\n",
       "       [ 9.083229  , -1.0442111 , -0.617966  , ..., -0.14112666,\n",
       "        -1.1140041 , -1.4369857 ],\n",
       "       [ 0.3568511 , -1.3503479 , -0.9340666 , ..., -0.67349786,\n",
       "         0.08833481,  0.20513904],\n",
       "       ...,\n",
       "       [-0.249999  , -1.8851949 ,  0.22753987, ...,  1.0323205 ,\n",
       "        -0.26975325, -1.5260704 ],\n",
       "       [-3.0407867 , -0.14718603, -1.8478367 , ..., -1.0708668 ,\n",
       "        -1.1002487 , -0.91889775],\n",
       "       [-3.0249548 , -0.19999205, -1.8243004 , ..., -1.0348183 ,\n",
       "        -1.0819038 , -1.0104672 ]], dtype=float32), label_ids=array([0, 0, 5, ..., 5, 4, 4]), metrics={'test_loss': 0.8137757182121277, 'test_roc_auc': 0.9750477006638104, 'test_accuracy': 0.8413358369098712, 'test_runtime': 223.245, 'test_samples_per_second': 33.398, 'test_steps_per_second': 8.35})"
      ]
     },
     "execution_count": 44,
     "metadata": {},
     "output_type": "execute_result"
    }
   ],
   "source": [
    "predictions"
   ]
  },
  {
   "cell_type": "code",
   "execution_count": 45,
   "metadata": {
    "execution": {
     "iopub.execute_input": "2024-12-14T13:49:54.070137Z",
     "iopub.status.busy": "2024-12-14T13:49:54.069383Z",
     "iopub.status.idle": "2024-12-14T13:49:54.075740Z",
     "shell.execute_reply": "2024-12-14T13:49:54.074854Z",
     "shell.execute_reply.started": "2024-12-14T13:49:54.070102Z"
    },
    "trusted": true
   },
   "outputs": [
    {
     "data": {
      "text/plain": [
       "Dataset({\n",
       "    features: ['label', 'input_values'],\n",
       "    num_rows: 7456\n",
       "})"
      ]
     },
     "execution_count": 45,
     "metadata": {},
     "output_type": "execute_result"
    }
   ],
   "source": [
    "dd['test']"
   ]
  },
  {
   "cell_type": "code",
   "execution_count": 52,
   "metadata": {
    "execution": {
     "iopub.execute_input": "2024-12-14T13:58:24.936275Z",
     "iopub.status.busy": "2024-12-14T13:58:24.935555Z",
     "iopub.status.idle": "2024-12-14T13:58:24.940013Z",
     "shell.execute_reply": "2024-12-14T13:58:24.939165Z",
     "shell.execute_reply.started": "2024-12-14T13:58:24.936237Z"
    },
    "trusted": true
   },
   "outputs": [],
   "source": [
    "# import numpy as np\n",
    "# from sklearn.metrics import classification_report, confusion_matrix, ConfusionMatrixDisplay\n",
    "\n",
    "# # Mapping of numeric labels to class names\n",
    "# label_mapping = {0: 'Barisal', 1: 'Chakma', 2: 'Chittagong', 3: 'Dhaka', 4: 'Marma', 5: 'Noakhali', 6: 'Rajshahi', 7: 'Rangpur', 8: 'Sylhet'}\n",
    "\n",
    "# # Extract true labels\n",
    "# true_labels = np.array(dd['test']['label'])\n",
    "\n",
    "# # Predicted labels\n",
    "# predicted_labels = predictions\n",
    "\n",
    "# # Generate the classification report\n",
    "# report = classification_report(true_labels, label_ids, target_names=[label_mapping[i] for i in sorted(label_mapping.keys())])\n",
    "\n",
    "# # Print the class-wise accuracy, precision, recall, and F1 score\n",
    "# print(report)\n",
    "\n"
   ]
  },
  {
   "cell_type": "code",
   "execution_count": 57,
   "metadata": {
    "execution": {
     "iopub.execute_input": "2024-12-14T14:03:26.374157Z",
     "iopub.status.busy": "2024-12-14T14:03:26.373328Z",
     "iopub.status.idle": "2024-12-14T14:03:26.761591Z",
     "shell.execute_reply": "2024-12-14T14:03:26.760701Z",
     "shell.execute_reply.started": "2024-12-14T14:03:26.374120Z"
    },
    "trusted": true
   },
   "outputs": [
    {
     "data": {
      "image/png": "[encoded data removed]",
      "text/plain": [
       "<Figure size 640x480 with 2 Axes>"
      ]
     },
     "metadata": {},
     "output_type": "display_data"
    }
   ],
   "source": [
    "import numpy as np\n",
    "from sklearn.metrics import confusion_matrix, ConfusionMatrixDisplay\n",
    "import matplotlib.pyplot as plt\n",
    "\n",
    "# Example data (replace these with your actual arrays)\n",
    "logits = predictions.predictions\n",
    "label_ids = predictions.label_ids  # Replace with your full label_ids array\n",
    "label_mapping = {0: 'Barisal', 1: 'Chakma', 2: 'Chittagong', 3: 'Dhaka', 4: 'Marma', 5: 'Noakhali', 6: 'Rajshahi', 7: 'Rangpur', 8: 'Sylhet'}\n",
    "# Convert logits to predicted class indices\n",
    "predicted_labels = np.argmax(logits, axis=1)\n",
    "\n",
    "# Generate the confusion matrix\n",
    "cm = confusion_matrix(label_ids, predicted_labels)\n",
    "class_names = [label_mapping[i] for i in sorted(label_mapping.keys())]\n",
    "# Plot the confusion matrix\n",
    "disp = ConfusionMatrixDisplay(confusion_matrix=cm, display_labels=class_names)\n",
    "disp.plot(cmap=plt.cm.Blues,xticks_rotation='vertical' )\n",
    "plt.title(\"Confusion Matrix\")\n",
    "plt.show()\n"
   ]
  },
  {
   "cell_type": "code",
   "execution_count": 51,
   "metadata": {
    "execution": {
     "iopub.execute_input": "2024-12-14T13:58:04.251843Z",
     "iopub.status.busy": "2024-12-14T13:58:04.251464Z",
     "iopub.status.idle": "2024-12-14T13:58:04.270648Z",
     "shell.execute_reply": "2024-12-14T13:58:04.269744Z",
     "shell.execute_reply.started": "2024-12-14T13:58:04.251811Z"
    },
    "trusted": true
   },
   "outputs": [
    {
     "name": "stdout",
     "output_type": "stream",
     "text": [
      "Classification Report:\n",
      "              precision    recall  f1-score   support\n",
      "\n",
      "     Barisal       0.92      0.89      0.90       844\n",
      "      Chakma       0.88      0.82      0.85       821\n",
      "  Chittagong       0.88      0.79      0.83       834\n",
      "       Dhaka       0.64      0.81      0.72       845\n",
      "       Marma       0.83      0.86      0.84       881\n",
      "    Noakhali       0.96      0.90      0.93       805\n",
      "    Rajshahi       0.76      0.78      0.77       851\n",
      "     Rangpur       0.89      0.83      0.86       721\n",
      "      Sylhet       0.90      0.91      0.90       854\n",
      "\n",
      "    accuracy                           0.84      7456\n",
      "   macro avg       0.85      0.84      0.84      7456\n",
      "weighted avg       0.85      0.84      0.84      7456\n",
      "\n"
     ]
    }
   ],
   "source": [
    "from sklearn.metrics import classification_report\n",
    "label_mapping = {0: 'Barisal', 1: 'Chakma', 2: 'Chittagong', 3: 'Dhaka', 4: 'Marma', 5: 'Noakhali', 6: 'Rajshahi', 7: 'Rangpur', 8: 'Sylhet'}\n",
    "# Generate the classification report\n",
    "report = classification_report(label_ids, predicted_labels, target_names=[label_mapping[i] for i in sorted(label_mapping.keys())])\n",
    "\n",
    "# Print the report\n",
    "print(\"Classification Report:\")\n",
    "print(report)\n"
   ]
  },
  {
   "cell_type": "code",
   "execution_count": null,
   "metadata": {
    "trusted": true
   },
   "outputs": [],
   "source": [
    "# import numpy as np\n",
    "# import matplotlib.pyplot as plt\n",
    "# from sklearn.metrics import confusion_matrix, ConfusionMatrixDisplay\n",
    "\n",
    "# # Mapping of numeric labels to class names\n",
    "# label_mapping = {0: 'Barisal', 1: 'Chakma', 2: 'Chittagong', 3: 'Dhaka', 4: 'Marma', 5: 'Noakhali', 6: 'Rajshahi', 7: 'Rangpur', 8: 'Sylhet'}\n",
    "\n",
    "# # Extract true labels\n",
    "# true_labels = np.array(dd['test']['label'])\n",
    "\n",
    "# # Predicted labels\n",
    "# predicted_labels = predictions\n",
    "\n",
    "# # Generate the confusion matrix\n",
    "# cm = confusion_matrix(true_labels, predicted_labels)\n",
    "\n",
    "# # Get class names in order\n",
    "# class_names = [label_mapping[i] for i in sorted(label_mapping.keys())]\n",
    "\n",
    "# # Display the confusion matrix with class names and a blue color map\n",
    "# disp = ConfusionMatrixDisplay(confusion_matrix=cm, display_labels=class_names)\n",
    "# disp.plot(cmap='Blues', xticks_rotation='vertical')\n",
    "\n",
    "# plt.title(\"Confusion Matrix\")\n",
    "# plt.show()\n"
   ]
  },
  {
   "cell_type": "code",
   "execution_count": null,
   "metadata": {
    "id": "T_gc3fn9i9Ow",
    "trusted": true
   },
   "outputs": [],
   "source": [
    "# model_name = \"wav2vec2-base-960h\"\n",
    "# kwargs = {\n",
    "#     \"dataset_tags\": \"thisisjibon/banglabeats\",\n",
    "#     \"dataset\": \"BanglaBeats\",\n",
    "#     \"model_name\": f\"{model_name}-finetuned-banglabeats\",\n",
    "#     \"finetuned_from\": \"facebook/wav2vec2-base-960h\",\n",
    "#     \"tasks\": \"audio-classification\",\n",
    "# }\n",
    "# trainer.push_to_hub(**kwargs)"
   ]
  },
  {
   "cell_type": "code",
   "execution_count": null,
   "metadata": {
    "id": "C0SG3QCNi9Ow",
    "trusted": true
   },
   "outputs": [],
   "source": [
    "# from transformers import pipeline\n",
    "\n",
    "# pipe=pipeline('audio-classification',model=model_name,device=0)"
   ]
  },
  {
   "cell_type": "code",
   "execution_count": null,
   "metadata": {
    "id": "iu14MItMi9Ox",
    "trusted": true
   },
   "outputs": [],
   "source": [
    "# # disco example\n",
    "# audio,rate=torchaudio.load('/kaggle/input/gtzan-dataset-music-genre-classification/Data/genres_original/disco/disco.00005.wav')\n",
    "# transform=torchaudio.transforms.Resample(rate,RATE_HZ)\n",
    "# audio=transform(audio).numpy().reshape(-1)\n",
    "# # make a classification pipeline\n",
    "# pipe(audio)"
   ]
  },
  {
   "cell_type": "code",
   "execution_count": null,
   "metadata": {
    "id": "QF5s_FBBi9Ox",
    "trusted": true
   },
   "outputs": [],
   "source": [
    "# # classical example\n",
    "# audio,rate=torchaudio.load('/kaggle/input/gtzan-dataset-music-genre-classification/Data/genres_original/classical/classical.00014.wav')\n",
    "# transform=torchaudio.transforms.Resample(rate,RATE_HZ)\n",
    "# audio=transform(audio).numpy().reshape(-1)\n",
    "# # make a classification pipeline\n",
    "# pipe(audio)"
   ]
  },
  {
   "cell_type": "code",
   "execution_count": null,
   "metadata": {
    "id": "ymFejaUhi9Ox",
    "trusted": true
   },
   "outputs": [],
   "source": [
    "# from IPython.display import Audio\n",
    "# Audio(audio,rate=RATE_HZ)"
   ]
  },
  {
   "cell_type": "markdown",
   "metadata": {
    "id": "Wl486hYTi9Oy"
   },
   "source": [
    "# Send model to Huggingface"
   ]
  },
  {
   "cell_type": "code",
   "execution_count": null,
   "metadata": {
    "id": "KGuYagvhi9Oz",
    "trusted": true
   },
   "outputs": [],
   "source": [
    "# # finally, save the model to Huggingface\n",
    "# from huggingface_hub import notebook_login\n",
    "# notebook_login()"
   ]
  },
  {
   "cell_type": "code",
   "execution_count": null,
   "metadata": {
    "id": "b4bMdvFIi9O0",
    "trusted": true
   },
   "outputs": [],
   "source": [
    "# from huggingface_hub import HfApi\n",
    "# api = HfApi()\n",
    "# repo_id = f\"thisisjibon/{model_name}\"\n",
    "# try:\n",
    "#     api.create_repo(repo_id)\n",
    "# except:\n",
    "#     print(f\"Repo {repo_id} already exists\")"
   ]
  },
  {
   "cell_type": "code",
   "execution_count": null,
   "metadata": {
    "id": "fFuClkxdi9O1",
    "trusted": true
   },
   "outputs": [],
   "source": [
    "# api.upload_folder(\n",
    "#     folder_path=model_name,\n",
    "#     path_in_repo = \".\",\n",
    "#     repo_id=repo_id,\n",
    "#     repo_type=\"model\"\n",
    "# )"
   ]
  }
 ],
 "metadata": {
  "colab": {
   "provenance": []
  },
  "kaggle": {
   "accelerator": "gpu",
   "dataSources": [
    {
     "datasetId": 568973,
     "sourceId": 1032238,
     "sourceType": "datasetVersion"
    },
    {
     "datasetId": 3736461,
     "sourceId": 6469461,
     "sourceType": "datasetVersion"
    },
    {
     "datasetId": 5720247,
     "sourceId": 9418389,
     "sourceType": "datasetVersion"
    },
    {
     "datasetId": 5722733,
     "sourceId": 9421747,
     "sourceType": "datasetVersion"
    }
   ],
   "dockerImageVersionId": 30805,
   "isGpuEnabled": true,
   "isInternetEnabled": true,
   "language": "python",
   "sourceType": "notebook"
  },
  "kernelspec": {
   "display_name": "Python 3",
   "language": "python",
   "name": "python3"
  },
  "language_info": {
   "codemirror_mode": {
    "name": "ipython",
    "version": 3
   },
   "file_extension": ".py",
   "mimetype": "text/x-python",
   "name": "python",
   "nbconvert_exporter": "python",
   "pygments_lexer": "ipython3",
   "version": "3.10.14"
  }
 },
 "nbformat": 4,
 "nbformat_minor": 4
}
